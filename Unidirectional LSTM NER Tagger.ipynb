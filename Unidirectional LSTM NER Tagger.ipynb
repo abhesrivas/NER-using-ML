{
 "cells": [
  {
   "cell_type": "markdown",
   "metadata": {},
   "source": [
    "## Named Entity Recognition using Unidirectional LSTMs\n",
    "\n",
    "In this notebook we train a Unidirectional LSTM model for Named Entity Recognition on CoNLL English dataset."
   ]
  },
  {
   "cell_type": "markdown",
   "metadata": {},
   "source": [
    "Dataset: CoNLL 2002 English Dataset"
   ]
  },
  {
   "cell_type": "code",
   "execution_count": 1,
   "metadata": {},
   "outputs": [
    {
     "name": "stderr",
     "output_type": "stream",
     "text": [
      "Using TensorFlow backend.\n",
      "c:\\users\\abhishek\\appdata\\local\\conda\\conda\\envs\\tensorflow\\lib\\site-packages\\sklearn\\cross_validation.py:41: DeprecationWarning: This module was deprecated in version 0.18 in favor of the model_selection module into which all the refactored classes and functions are moved. Also note that the interface of the new CV iterators are different from that of this module. This module will be removed in 0.20.\n",
      "  \"This module will be removed in 0.20.\", DeprecationWarning)\n",
      "c:\\users\\abhishek\\appdata\\local\\conda\\conda\\envs\\tensorflow\\lib\\site-packages\\gensim\\utils.py:1209: UserWarning: detected Windows; aliasing chunkize to chunkize_serial\n",
      "  warnings.warn(\"detected Windows; aliasing chunkize to chunkize_serial\")\n"
     ]
    }
   ],
   "source": [
    "from keras.models import Sequential\n",
    "import numpy as np\n",
    "from keras.layers.recurrent import LSTM\n",
    "from keras.layers.core import Dense, Activation\n",
    "from keras.preprocessing.sequence import pad_sequences\n",
    "from keras.layers.embeddings import Embedding\n",
    "from sklearn.cross_validation import train_test_split\n",
    "from keras.layers import merge, TimeDistributed, Dropout, Bidirectional, Flatten, Masking\n",
    "from keras.backend import tf\n",
    "from sklearn.metrics import confusion_matrix, accuracy_score\n",
    "from sklearn.metrics import precision_recall_fscore_support as f_score\n",
    "from gensim.models import Word2Vec\n",
    "from gensim.models import KeyedVectors\n",
    "import pandas as p\n",
    "import numpy\n",
    "from keras.utils.np_utils import to_categorical"
   ]
  },
  {
   "cell_type": "code",
   "execution_count": 2,
   "metadata": {
    "scrolled": true
   },
   "outputs": [
    {
     "name": "stdout",
     "output_type": "stream",
     "text": [
      "['-DOCSTART- -X- O O\\n', '\\n', 'EU NNP I-NP I-ORG\\n', 'rejects VBZ I-VP O\\n', 'German JJ I-NP I-MISC\\n', 'call NN I-NP O\\n', 'to TO I-VP O\\n', 'boycott VB I-VP O\\n', 'British JJ I-NP I-MISC\\n', 'lamb NN I-NP O\\n', '. . O O\\n', '\\n', 'Peter NNP I-NP I-PER\\n', 'Blackburn NNP I-NP I-PER\\n', '\\n', 'BRUSSELS NNP I-NP I-LOC\\n', '1996-08-22 CD I-NP O\\n', '\\n', 'The DT I-NP O\\n', 'European NNP I-NP I-ORG\\n', 'Commission NNP I-NP I-ORG\\n', 'said VBD I-VP O\\n', 'on IN I-PP O\\n', 'Thursday NNP I-NP O\\n', 'it PRP B-NP O\\n', 'disagreed VBD I-VP O\\n', 'with IN I-PP O\\n', 'German JJ I-NP I-MISC\\n', 'advice NN I-NP O\\n', 'to TO I-PP O\\n', 'consumers NNS I-NP O\\n', 'to TO I-VP O\\n', 'shun VB I-VP O\\n', 'British JJ I-NP I-MISC\\n', 'lamb NN I-NP O\\n', 'until IN I-SBAR O\\n', 'scientists NNS I-NP O\\n', 'determine VBP I-VP O\\n', 'whether IN I-SBAR O\\n', 'mad JJ I-NP O\\n', 'cow NN I-NP O\\n', 'disease NN I-NP O\\n', 'can MD I-VP O\\n', 'be VB I-VP O\\n', 'transmitted VBN I-VP O\\n', 'to TO I-PP O\\n', 'sheep NN I-NP O\\n', '. . O O\\n', '\\n', 'Germany NNP I-NP I-LOC\\n']\n"
     ]
    }
   ],
   "source": [
    "raw = open('/data/eng.train', 'r',encoding=\"Latin-1\").readlines()\n",
    "\n",
    "print(raw[:50])"
   ]
  },
  {
   "cell_type": "code",
   "execution_count": 3,
   "metadata": {},
   "outputs": [
    {
     "name": "stdout",
     "output_type": "stream",
     "text": [
      "[[['-DOCSTART-', '-X-', 'O', 'O']]]\n"
     ]
    }
   ],
   "source": [
    "all_x = []\n",
    "\n",
    "point = []\n",
    "\n",
    "for line in raw:\n",
    "    stripped_line = line.strip().split(' ')\n",
    "    point.append(stripped_line)\n",
    "    if line == '\\n':\n",
    "        all_x.append(point[:-1])\n",
    "        point = []\n",
    "        \n",
    "all_x = all_x[:-1]\n",
    "\n",
    "print(all_x[:1])"
   ]
  },
  {
   "cell_type": "code",
   "execution_count": 4,
   "metadata": {},
   "outputs": [
    {
     "name": "stdout",
     "output_type": "stream",
     "text": [
      "Input sequence length range (Max, Min): (113,1)\n"
     ]
    }
   ],
   "source": [
    "lengths = [len(x) for x in all_x]\n",
    "print('Input sequence length range (Max, Min): ({},{})'.format(max(lengths), min(lengths)))"
   ]
  },
  {
   "cell_type": "code",
   "execution_count": 5,
   "metadata": {},
   "outputs": [],
   "source": [
    "# short_x = [x for x in all_x if len(x) < 64]\n",
    "\n",
    "# print(short_x[:1])"
   ]
  },
  {
   "cell_type": "code",
   "execution_count": 16,
   "metadata": {
    "scrolled": true
   },
   "outputs": [
    {
     "name": "stdout",
     "output_type": "stream",
     "text": [
      "['Peter', 'Blackburn']\n",
      "['I-PER', 'I-PER']\n"
     ]
    }
   ],
   "source": [
    "X = [[c[0] for c in x] for x in all_x]\n",
    "Y = [[c[3] for c in y] for y in all_x]\n",
    "\n",
    "print(X[2])\n",
    "print(Y[2])"
   ]
  },
  {
   "cell_type": "code",
   "execution_count": 17,
   "metadata": {},
   "outputs": [
    {
     "name": "stdout",
     "output_type": "stream",
     "text": [
      "No. of words and labels (Words, Labels): (204563,8)\n"
     ]
    }
   ],
   "source": [
    "all_text = [c for x in X for c in x]\n",
    "\n",
    "#all_text.append(\"ENDPAD\")\n",
    "\n",
    "all_labels = [c for y in Y for c in y]\n",
    "\n",
    "n_labels = len(set(all_labels))\n",
    "\n",
    "print(\"No. of words and labels (Words, Labels): ({},{})\".format(len(all_text),n_labels))\n",
    "#print(all_text[:1])"
   ]
  },
  {
   "cell_type": "code",
   "execution_count": 18,
   "metadata": {},
   "outputs": [
    {
     "name": "stdout",
     "output_type": "stream",
     "text": [
      "23624\n",
      "Vocabulary size: (Max, Min): (23625,9)\n"
     ]
    }
   ],
   "source": [
    "words = list(set(all_text))\n",
    "words.append(\"ENDPAD\")\n",
    "word2ind = {word: index for index, word in enumerate(words)}\n",
    "print(word2ind[\"ENDPAD\"])\n",
    "\n",
    "ind2word = {index: word for index, word in enumerate(words)}\n",
    "#print(ind2word[8505])\n",
    "\n",
    "labels = list(set([c for x in Y for c in x]))\n",
    "labels.append(\"UNK\")\n",
    "#print(labels)\n",
    "\n",
    "label2ind = {label: (index + 1) for index, label in enumerate(labels)}\n",
    "#print(label2ind[])\n",
    "\n",
    "ind2label = {(index + 1): label for index, label in enumerate(labels)}\n",
    "#print(ind2label)\n",
    "\n",
    "print('Vocabulary size: (Max, Min): ({},{})'.format(len(word2ind), len(label2ind)))"
   ]
  },
  {
   "cell_type": "code",
   "execution_count": 19,
   "metadata": {},
   "outputs": [
    {
     "data": {
      "text/plain": [
       "2089"
      ]
     },
     "execution_count": 19,
     "metadata": {},
     "output_type": "execute_result"
    }
   ],
   "source": [
    "word2ind['.']"
   ]
  },
  {
   "cell_type": "code",
   "execution_count": 20,
   "metadata": {},
   "outputs": [],
   "source": [
    "X_vec = [[word2ind[w] for w in s] for s in X]\n",
    "\n",
    "y_vec = [[label2ind[w] for w in s] for s in Y]"
   ]
  },
  {
   "cell_type": "code",
   "execution_count": 21,
   "metadata": {},
   "outputs": [
    {
     "name": "stdout",
     "output_type": "stream",
     "text": [
      "[1]\n"
     ]
    }
   ],
   "source": [
    "print((y_vec[0]))"
   ]
  },
  {
   "cell_type": "code",
   "execution_count": 22,
   "metadata": {},
   "outputs": [
    {
     "name": "stdout",
     "output_type": "stream",
     "text": [
      "14986\n"
     ]
    }
   ],
   "source": [
    "print(len(X_vec))"
   ]
  },
  {
   "cell_type": "code",
   "execution_count": 23,
   "metadata": {},
   "outputs": [
    {
     "name": "stdout",
     "output_type": "stream",
     "text": [
      "ENDPAD\n",
      "1\n"
     ]
    }
   ],
   "source": [
    "# maxlen = max([len(x) for x in X])\n",
    "# print('Maximum sequence length:', maxlen)\n",
    "\n",
    "maxlen=50\n",
    "print(words[len(words)-1])\n",
    "print(label2ind['O'])"
   ]
  },
  {
   "cell_type": "code",
   "execution_count": 24,
   "metadata": {},
   "outputs": [
    {
     "name": "stdout",
     "output_type": "stream",
     "text": [
      "23624\n",
      "1\n"
     ]
    }
   ],
   "source": [
    "X = pad_sequences(maxlen=maxlen, sequences=X_vec, padding=\"post\",value=len(words)-1)\n",
    "y = pad_sequences(maxlen=maxlen, sequences=y_vec, padding=\"post\",value=label2ind['O'])\n",
    "\n",
    "print(X[0][49])\n",
    "print(y[0][49])"
   ]
  },
  {
   "cell_type": "code",
   "execution_count": 25,
   "metadata": {},
   "outputs": [],
   "source": [
    "y = [to_categorical(i, num_classes=n_labels+1) for i in y]"
   ]
  },
  {
   "cell_type": "code",
   "execution_count": 26,
   "metadata": {},
   "outputs": [
    {
     "name": "stdout",
     "output_type": "stream",
     "text": [
      "Training and testing tensor shapes: (50,) (50,) (50, 9) (50, 9)\n"
     ]
    }
   ],
   "source": [
    "X_train, X_test, y_train, y_test = train_test_split(X, y, test_size=0.1, random_state=42)\n",
    "print ('Training and testing tensor shapes:', X_train[0].shape, X_test[0].shape, y_train[0].shape, y_test[0].shape)"
   ]
  },
  {
   "cell_type": "code",
   "execution_count": 27,
   "metadata": {},
   "outputs": [],
   "source": [
    "# max_features = len(word2ind)\n",
    "# embedding_size = 37589\n",
    "# hidden_size = 32\n",
    "# out_size = len(label2ind) + 1"
   ]
  },
  {
   "cell_type": "code",
   "execution_count": 71,
   "metadata": {},
   "outputs": [],
   "source": [
    "model = Sequential()\n",
    "model.add(Embedding(input_dim=len(words),output_dim=maxlen, input_length=maxlen))\n",
    "model.add((LSTM(units=200, return_sequences=True, dropout=0.5, recurrent_dropout=0.25)))\n",
    "model.add((Dense(len(label2ind), activation=\"softmax\")))\n",
    "model.compile(loss='categorical_crossentropy', optimizer='rmsprop',metrics=[\"accuracy\"])"
   ]
  },
  {
   "cell_type": "code",
   "execution_count": 72,
   "metadata": {},
   "outputs": [
    {
     "name": "stdout",
     "output_type": "stream",
     "text": [
      "_________________________________________________________________\n",
      "Layer (type)                 Output Shape              Param #   \n",
      "=================================================================\n",
      "embedding_12 (Embedding)     (None, 50, 50)            1181250   \n",
      "_________________________________________________________________\n",
      "lstm_14 (LSTM)               (None, 50, 200)           200800    \n",
      "_________________________________________________________________\n",
      "dense_14 (Dense)             (None, 50, 9)             1809      \n",
      "=================================================================\n",
      "Total params: 1,383,859\n",
      "Trainable params: 1,383,859\n",
      "Non-trainable params: 0\n",
      "_________________________________________________________________\n"
     ]
    }
   ],
   "source": [
    "model.summary()"
   ]
  },
  {
   "cell_type": "code",
   "execution_count": 73,
   "metadata": {
    "scrolled": true
   },
   "outputs": [
    {
     "name": "stdout",
     "output_type": "stream",
     "text": [
      "Train on 8092 samples, validate on 5395 samples\n",
      "Epoch 1/5\n",
      "8092/8092 [==============================] - 55s 7ms/step - loss: 0.2099 - acc: 0.9518 - val_loss: 0.1110 - val_acc: 0.9621\n",
      "Epoch 2/5\n",
      " 736/8092 [=>............................] - ETA: 40s - loss: 0.0986 - acc: 0.9627 ETA: 40s - loss: 0.0987 - acc: 0.96"
     ]
    },
    {
     "ename": "KeyboardInterrupt",
     "evalue": "",
     "output_type": "error",
     "traceback": [
      "\u001b[1;31m---------------------------------------------------------------------------\u001b[0m",
      "\u001b[1;31mKeyboardInterrupt\u001b[0m                         Traceback (most recent call last)",
      "\u001b[1;32m<ipython-input-73-536ae3ee31b8>\u001b[0m in \u001b[0;36m<module>\u001b[1;34m()\u001b[0m\n\u001b[1;32m----> 1\u001b[1;33m \u001b[0mhistory\u001b[0m \u001b[1;33m=\u001b[0m \u001b[0mmodel\u001b[0m\u001b[1;33m.\u001b[0m\u001b[0mfit\u001b[0m\u001b[1;33m(\u001b[0m\u001b[0mX_train\u001b[0m\u001b[1;33m,\u001b[0m \u001b[0mnp\u001b[0m\u001b[1;33m.\u001b[0m\u001b[0marray\u001b[0m\u001b[1;33m(\u001b[0m\u001b[0my_train\u001b[0m\u001b[1;33m)\u001b[0m\u001b[1;33m,\u001b[0m \u001b[0mbatch_size\u001b[0m\u001b[1;33m=\u001b[0m\u001b[1;36m32\u001b[0m\u001b[1;33m,\u001b[0m \u001b[0mepochs\u001b[0m\u001b[1;33m=\u001b[0m\u001b[1;36m5\u001b[0m\u001b[1;33m,\u001b[0m \u001b[0mvalidation_split\u001b[0m\u001b[1;33m=\u001b[0m\u001b[1;36m0.4\u001b[0m\u001b[1;33m)\u001b[0m\u001b[1;33m\u001b[0m\u001b[0m\n\u001b[0m",
      "\u001b[1;32mc:\\users\\abhishek\\appdata\\local\\conda\\conda\\envs\\tensorflow\\lib\\site-packages\\keras\\engine\\training.py\u001b[0m in \u001b[0;36mfit\u001b[1;34m(self, x, y, batch_size, epochs, verbose, callbacks, validation_split, validation_data, shuffle, class_weight, sample_weight, initial_epoch, steps_per_epoch, validation_steps, **kwargs)\u001b[0m\n\u001b[0;32m   1040\u001b[0m                                         \u001b[0minitial_epoch\u001b[0m\u001b[1;33m=\u001b[0m\u001b[0minitial_epoch\u001b[0m\u001b[1;33m,\u001b[0m\u001b[1;33m\u001b[0m\u001b[0m\n\u001b[0;32m   1041\u001b[0m                                         \u001b[0msteps_per_epoch\u001b[0m\u001b[1;33m=\u001b[0m\u001b[0msteps_per_epoch\u001b[0m\u001b[1;33m,\u001b[0m\u001b[1;33m\u001b[0m\u001b[0m\n\u001b[1;32m-> 1042\u001b[1;33m                                         validation_steps=validation_steps)\n\u001b[0m\u001b[0;32m   1043\u001b[0m \u001b[1;33m\u001b[0m\u001b[0m\n\u001b[0;32m   1044\u001b[0m     def evaluate(self, x=None, y=None,\n",
      "\u001b[1;32mc:\\users\\abhishek\\appdata\\local\\conda\\conda\\envs\\tensorflow\\lib\\site-packages\\keras\\engine\\training_arrays.py\u001b[0m in \u001b[0;36mfit_loop\u001b[1;34m(model, f, ins, out_labels, batch_size, epochs, verbose, callbacks, val_f, val_ins, shuffle, callback_metrics, initial_epoch, steps_per_epoch, validation_steps)\u001b[0m\n\u001b[0;32m    197\u001b[0m                     \u001b[0mins_batch\u001b[0m\u001b[1;33m[\u001b[0m\u001b[0mi\u001b[0m\u001b[1;33m]\u001b[0m \u001b[1;33m=\u001b[0m \u001b[0mins_batch\u001b[0m\u001b[1;33m[\u001b[0m\u001b[0mi\u001b[0m\u001b[1;33m]\u001b[0m\u001b[1;33m.\u001b[0m\u001b[0mtoarray\u001b[0m\u001b[1;33m(\u001b[0m\u001b[1;33m)\u001b[0m\u001b[1;33m\u001b[0m\u001b[0m\n\u001b[0;32m    198\u001b[0m \u001b[1;33m\u001b[0m\u001b[0m\n\u001b[1;32m--> 199\u001b[1;33m                 \u001b[0mouts\u001b[0m \u001b[1;33m=\u001b[0m \u001b[0mf\u001b[0m\u001b[1;33m(\u001b[0m\u001b[0mins_batch\u001b[0m\u001b[1;33m)\u001b[0m\u001b[1;33m\u001b[0m\u001b[0m\n\u001b[0m\u001b[0;32m    200\u001b[0m                 \u001b[1;32mif\u001b[0m \u001b[1;32mnot\u001b[0m \u001b[0misinstance\u001b[0m\u001b[1;33m(\u001b[0m\u001b[0mouts\u001b[0m\u001b[1;33m,\u001b[0m \u001b[0mlist\u001b[0m\u001b[1;33m)\u001b[0m\u001b[1;33m:\u001b[0m\u001b[1;33m\u001b[0m\u001b[0m\n\u001b[0;32m    201\u001b[0m                     \u001b[0mouts\u001b[0m \u001b[1;33m=\u001b[0m \u001b[1;33m[\u001b[0m\u001b[0mouts\u001b[0m\u001b[1;33m]\u001b[0m\u001b[1;33m\u001b[0m\u001b[0m\n",
      "\u001b[1;32mc:\\users\\abhishek\\appdata\\local\\conda\\conda\\envs\\tensorflow\\lib\\site-packages\\keras\\backend\\tensorflow_backend.py\u001b[0m in \u001b[0;36m__call__\u001b[1;34m(self, inputs)\u001b[0m\n\u001b[0;32m   2659\u001b[0m                 \u001b[1;32mreturn\u001b[0m \u001b[0mself\u001b[0m\u001b[1;33m.\u001b[0m\u001b[0m_legacy_call\u001b[0m\u001b[1;33m(\u001b[0m\u001b[0minputs\u001b[0m\u001b[1;33m)\u001b[0m\u001b[1;33m\u001b[0m\u001b[0m\n\u001b[0;32m   2660\u001b[0m \u001b[1;33m\u001b[0m\u001b[0m\n\u001b[1;32m-> 2661\u001b[1;33m             \u001b[1;32mreturn\u001b[0m \u001b[0mself\u001b[0m\u001b[1;33m.\u001b[0m\u001b[0m_call\u001b[0m\u001b[1;33m(\u001b[0m\u001b[0minputs\u001b[0m\u001b[1;33m)\u001b[0m\u001b[1;33m\u001b[0m\u001b[0m\n\u001b[0m\u001b[0;32m   2662\u001b[0m         \u001b[1;32melse\u001b[0m\u001b[1;33m:\u001b[0m\u001b[1;33m\u001b[0m\u001b[0m\n\u001b[0;32m   2663\u001b[0m             \u001b[1;32mif\u001b[0m \u001b[0mpy_any\u001b[0m\u001b[1;33m(\u001b[0m\u001b[0mis_tensor\u001b[0m\u001b[1;33m(\u001b[0m\u001b[0mx\u001b[0m\u001b[1;33m)\u001b[0m \u001b[1;32mfor\u001b[0m \u001b[0mx\u001b[0m \u001b[1;32min\u001b[0m \u001b[0minputs\u001b[0m\u001b[1;33m)\u001b[0m\u001b[1;33m:\u001b[0m\u001b[1;33m\u001b[0m\u001b[0m\n",
      "\u001b[1;32mc:\\users\\abhishek\\appdata\\local\\conda\\conda\\envs\\tensorflow\\lib\\site-packages\\keras\\backend\\tensorflow_backend.py\u001b[0m in \u001b[0;36m_call\u001b[1;34m(self, inputs)\u001b[0m\n\u001b[0;32m   2629\u001b[0m                                 \u001b[0msymbol_vals\u001b[0m\u001b[1;33m,\u001b[0m\u001b[1;33m\u001b[0m\u001b[0m\n\u001b[0;32m   2630\u001b[0m                                 session)\n\u001b[1;32m-> 2631\u001b[1;33m         \u001b[0mfetched\u001b[0m \u001b[1;33m=\u001b[0m \u001b[0mself\u001b[0m\u001b[1;33m.\u001b[0m\u001b[0m_callable_fn\u001b[0m\u001b[1;33m(\u001b[0m\u001b[1;33m*\u001b[0m\u001b[0marray_vals\u001b[0m\u001b[1;33m)\u001b[0m\u001b[1;33m\u001b[0m\u001b[0m\n\u001b[0m\u001b[0;32m   2632\u001b[0m         \u001b[1;32mreturn\u001b[0m \u001b[0mfetched\u001b[0m\u001b[1;33m[\u001b[0m\u001b[1;33m:\u001b[0m\u001b[0mlen\u001b[0m\u001b[1;33m(\u001b[0m\u001b[0mself\u001b[0m\u001b[1;33m.\u001b[0m\u001b[0moutputs\u001b[0m\u001b[1;33m)\u001b[0m\u001b[1;33m]\u001b[0m\u001b[1;33m\u001b[0m\u001b[0m\n\u001b[0;32m   2633\u001b[0m \u001b[1;33m\u001b[0m\u001b[0m\n",
      "\u001b[1;32mc:\\users\\abhishek\\appdata\\local\\conda\\conda\\envs\\tensorflow\\lib\\site-packages\\tensorflow\\python\\client\\session.py\u001b[0m in \u001b[0;36m__call__\u001b[1;34m(self, *args)\u001b[0m\n\u001b[0;32m   1449\u001b[0m         \u001b[1;32mif\u001b[0m \u001b[0mself\u001b[0m\u001b[1;33m.\u001b[0m\u001b[0m_session\u001b[0m\u001b[1;33m.\u001b[0m\u001b[0m_created_with_new_api\u001b[0m\u001b[1;33m:\u001b[0m\u001b[1;33m\u001b[0m\u001b[0m\n\u001b[0;32m   1450\u001b[0m           return tf_session.TF_SessionRunCallable(\n\u001b[1;32m-> 1451\u001b[1;33m               self._session._session, self._handle, args, status, None)\n\u001b[0m\u001b[0;32m   1452\u001b[0m         \u001b[1;32melse\u001b[0m\u001b[1;33m:\u001b[0m\u001b[1;33m\u001b[0m\u001b[0m\n\u001b[0;32m   1453\u001b[0m           return tf_session.TF_DeprecatedSessionRunCallable(\n",
      "\u001b[1;31mKeyboardInterrupt\u001b[0m: "
     ]
    }
   ],
   "source": [
    "history = model.fit(X_train, np.array(y_train), batch_size=32, epochs=5, validation_split=0.4)"
   ]
  },
  {
   "cell_type": "code",
   "execution_count": 56,
   "metadata": {},
   "outputs": [],
   "source": [
    "import pandas\n",
    "import matplotlib.pyplot as plt\n",
    "%matplotlib inline\n",
    "\n",
    "hist = pandas.DataFrame(history.history)"
   ]
  },
  {
   "cell_type": "code",
   "execution_count": 57,
   "metadata": {
    "scrolled": true
   },
   "outputs": [
    {
     "data": {
      "image/png": "[encoded data removed]",
      "text/plain": [
       "<Figure size 864x864 with 1 Axes>"
      ]
     },
     "metadata": {},
     "output_type": "display_data"
    }
   ],
   "source": [
    "plt.figure(figsize=(12,12))\n",
    "plt.plot(hist[\"acc\"])\n",
    "plt.plot(hist[\"val_acc\"])\n",
    "plt.show()"
   ]
  },
  {
   "cell_type": "code",
   "execution_count": 58,
   "metadata": {
    "scrolled": true
   },
   "outputs": [
    {
     "data": {
      "image/png": "[encoded data removed]",
      "text/plain": [
       "<Figure size 864x864 with 1 Axes>"
      ]
     },
     "metadata": {},
     "output_type": "display_data"
    }
   ],
   "source": [
    "plt.figure(figsize=(12,12))\n",
    "plt.plot(hist[\"loss\"])\n",
    "plt.plot(hist[\"val_loss\"])\n",
    "plt.show()"
   ]
  },
  {
   "cell_type": "code",
   "execution_count": 45,
   "metadata": {},
   "outputs": [
    {
     "name": "stdout",
     "output_type": "stream",
     "text": [
      "[[1 1 1 ... 1 1 1]\n",
      " [1 5 1 ... 1 1 1]\n",
      " [1 1 1 ... 1 1 1]\n",
      " ...\n",
      " [1 1 1 ... 1 1 1]\n",
      " [6 6 1 ... 1 1 1]\n",
      " [6 1 1 ... 1 1 1]]\n"
     ]
    }
   ],
   "source": [
    "print(np.argmax(y_test, -1))"
   ]
  },
  {
   "cell_type": "code",
   "execution_count": 46,
   "metadata": {},
   "outputs": [
    {
     "name": "stdout",
     "output_type": "stream",
     "text": [
      "Word            (True ): Pred\n",
      "The            : I-MISC I-MISC\n",
      "SPLA           : I-PER I-PER\n",
      "has            : I-MISC I-MISC\n",
      "fought         : I-MISC I-MISC\n",
      "Khartoum       : I-ORG I-ORG\n",
      "'s             : I-MISC I-MISC\n",
      "government     : I-MISC I-MISC\n",
      "forces         : I-MISC I-MISC\n",
      "in             : I-MISC I-MISC\n",
      "the            : I-MISC I-MISC\n",
      "south          : I-MISC I-MISC\n",
      "since          : I-MISC I-MISC\n",
      "1983           : I-MISC I-MISC\n",
      "for            : I-MISC I-MISC\n",
      "greater        : I-MISC I-MISC\n",
      "autonomy       : I-MISC I-MISC\n",
      "or             : I-MISC I-MISC\n",
      "independence   : I-MISC I-MISC\n",
      "of             : I-MISC I-MISC\n",
      "the            : I-MISC I-MISC\n",
      "mainly         : I-MISC I-MISC\n",
      "Christian      : B-LOC I-PER\n",
      "and            : I-MISC I-MISC\n",
      "animist        : I-MISC I-MISC\n",
      "region         : I-MISC I-MISC\n",
      "from           : I-MISC I-MISC\n",
      "the            : I-MISC I-MISC\n",
      "Moslem         : B-LOC B-LOC\n",
      ",              : I-MISC I-MISC\n",
      "Arabised       : I-ORG I-MISC\n",
      "north          : I-ORG I-MISC\n",
      ".              : I-MISC I-MISC\n",
      "ENDPAD         : I-MISC I-MISC\n",
      "ENDPAD         : I-MISC I-MISC\n",
      "ENDPAD         : I-MISC I-MISC\n",
      "ENDPAD         : I-MISC I-MISC\n",
      "ENDPAD         : I-MISC I-MISC\n",
      "ENDPAD         : I-MISC I-MISC\n",
      "ENDPAD         : I-MISC I-MISC\n",
      "ENDPAD         : I-MISC I-MISC\n",
      "ENDPAD         : I-MISC I-MISC\n",
      "ENDPAD         : I-MISC I-MISC\n",
      "ENDPAD         : I-MISC I-MISC\n",
      "ENDPAD         : I-MISC I-MISC\n",
      "ENDPAD         : I-MISC I-MISC\n",
      "ENDPAD         : I-MISC I-MISC\n",
      "ENDPAD         : I-MISC I-MISC\n",
      "ENDPAD         : I-MISC I-MISC\n",
      "ENDPAD         : I-MISC I-MISC\n",
      "ENDPAD         : I-MISC I-MISC\n"
     ]
    }
   ],
   "source": [
    "i = 1\n",
    "#print(\"X_test is: {}\".format(X_test[i]))\n",
    "p = model.predict(np.array([X_test[i]]))\n",
    "p = np.argmax(p, axis=-1)\n",
    "true = np.argmax(y_test[i], -1)\n",
    "print(\"{:15} ({:5}): {}\".format(\"Word\", \"True\", \"Pred\"))\n",
    "for w, t, pred in zip(X_test[i], true, p[0]):\n",
    "    print(\"{:15}: {:5} {}\".format(words[w], labels[t], labels[pred]))"
   ]
  },
  {
   "cell_type": "code",
   "execution_count": null,
   "metadata": {},
   "outputs": [],
   "source": [
    "# score = model.evaluate(X_test, np.array(y_test), batch_size=32)\n",
    "# print('Raw test score:', score)\n",
    "# y_pred = model.predict(X_test)\n",
    "# print(np.argmax(y_pred[0],axis=-1))\n",
    "# print(y_test[0])"
   ]
  },
  {
   "cell_type": "code",
   "execution_count": null,
   "metadata": {},
   "outputs": [],
   "source": [
    "# def score(yh, pr):\n",
    "#     coords = [np.where(yhh > 0)[0][0] for yhh in yh]\n",
    "#     y_hat= [yhh[co:] for yhh, co in zip(yh, coords)]\n",
    "#     ypr = [prr[co:] for prr, co in zip(pr, coords)]\n",
    "#     fy_hat= [c for row in yh for c in row]\n",
    "#     fpr = [c for row in ypr for c in row]\n",
    "#     return fyh, fpr"
   ]
  },
  {
   "cell_type": "code",
   "execution_count": null,
   "metadata": {},
   "outputs": [],
   "source": [
    "# pr = model.predict_classes(X_train)\n",
    "# yh = y_train.argmax(2)\n",
    "# fyh, fpr = score(yh, pr)\n",
    "# print ('Training accuracy:', accuracy_score(fyh, fpr))\n",
    "# print ('Training confusion matrix:')\n",
    "# print (confusion_matrix(fyh, fpr))\n",
    "# f_score(fyh, fpr)"
   ]
  },
  {
   "cell_type": "code",
   "execution_count": null,
   "metadata": {},
   "outputs": [],
   "source": [
    "# import os\n",
    "\n",
    "# model.save_weights(\"unidirectional_default_code_ner.hdf5\")"
   ]
  },
  {
   "cell_type": "code",
   "execution_count": null,
   "metadata": {},
   "outputs": [],
   "source": [
    "# model.load_weights(\"unidirectional_default_code_ner.hdf5\")"
   ]
  },
  {
   "cell_type": "code",
   "execution_count": null,
   "metadata": {},
   "outputs": [],
   "source": [
    "# print(yh)"
   ]
  }
 ],
 "metadata": {
  "kernelspec": {
   "display_name": "Python 3",
   "language": "python",
   "name": "python3"
  },
  "language_info": {
   "codemirror_mode": {
    "name": "ipython",
    "version": 3
   },
   "file_extension": ".py",
   "mimetype": "text/x-python",
   "name": "python",
   "nbconvert_exporter": "python",
   "pygments_lexer": "ipython3",
   "version": "3.6.6"
  }
 },
 "nbformat": 4,
 "nbformat_minor": 2
}
