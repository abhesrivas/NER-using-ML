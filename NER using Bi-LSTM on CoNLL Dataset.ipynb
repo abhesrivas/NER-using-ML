{
 "cells": [
  {
   "cell_type": "markdown",
   "metadata": {},
   "source": [
    "## Named Entity Recognition using LSTMs (with Character + Word Embeddings)\n",
    "\n",
    "In this notebook we train a Bidirectional LSTM model for Named Entity Recognition on CoNLL English dataset."
   ]
  },
  {
   "cell_type": "markdown",
   "metadata": {},
   "source": [
    "Dataset: CoNLL 2003 English Dataset"
   ]
  },
  {
   "cell_type": "markdown",
   "metadata": {},
   "source": [
    "## 1. Using NLTK CoNLL Reader "
   ]
  },
  {
   "cell_type": "code",
   "execution_count": 3,
   "metadata": {},
   "outputs": [],
   "source": [
    "from nltk.corpus.reader.conll import ConllCorpusReader"
   ]
  },
  {
   "cell_type": "code",
   "execution_count": 4,
   "metadata": {},
   "outputs": [
    {
     "name": "stdout",
     "output_type": "stream",
     "text": [
      "['-DOCSTART- -X- O O\\n', '\\n', 'EU NNP I-NP I-ORG\\n', 'rejects VBZ I-VP O\\n', 'German JJ I-NP I-MISC\\n', 'call NN I-NP O\\n', 'to TO I-VP O\\n', 'boycott VB I-VP O\\n', 'British JJ I-NP I-MISC\\n', 'lamb NN I-NP O\\n', '. . O O\\n', '\\n', 'Peter NNP I-NP I-PER\\n', 'Blackburn NNP I-NP I-PER\\n', '\\n', 'BRUSSELS NNP I-NP I-LOC\\n', '1996-08-22 CD I-NP O\\n', '\\n', 'The DT I-NP O\\n', 'European NNP I-NP I-ORG\\n', 'Commission NNP I-NP I-ORG\\n', 'said VBD I-VP O\\n', 'on IN I-PP O\\n', 'Thursday NNP I-NP O\\n', 'it PRP B-NP O\\n', 'disagreed VBD I-VP O\\n', 'with IN I-PP O\\n', 'German JJ I-NP I-MISC\\n', 'advice NN I-NP O\\n', 'to TO I-PP O\\n', 'consumers NNS I-NP O\\n', 'to TO I-VP O\\n', 'shun VB I-VP O\\n', 'British JJ I-NP I-MISC\\n', 'lamb NN I-NP O\\n', 'until IN I-SBAR O\\n', 'scientists NNS I-NP O\\n', 'determine VBP I-VP O\\n', 'whether IN I-SBAR O\\n', 'mad JJ I-NP O\\n', 'cow NN I-NP O\\n', 'disease NN I-NP O\\n', 'can MD I-VP O\\n', 'be VB I-VP O\\n', 'transmitted VBN I-VP O\\n', 'to TO I-PP O\\n', 'sheep NN I-NP O\\n', '. . O O\\n', '\\n', 'Germany NNP I-NP I-LOC\\n']\n"
     ]
    }
   ],
   "source": [
    "raw = open('data/eng.train', 'r',encoding=\"Latin-1\").readlines()\n",
    "\n",
    "print(raw[:50])"
   ]
  },
  {
   "cell_type": "code",
   "execution_count": 5,
   "metadata": {},
   "outputs": [],
   "source": [
    "root = 'data/'\n",
    "fileid = \"eng.train\"\n",
    "\n",
    "WORDS = 'words'\n",
    "\n",
    "POS = 'pos'\n",
    "\n",
    "CHUNK = 'chunk'\n",
    "\n",
    "NE = 'ne'\n",
    "\n",
    "reader = ConllCorpusReader(root, fileid, (WORDS, POS, CHUNK, NE))"
   ]
  },
  {
   "cell_type": "code",
   "execution_count": 6,
   "metadata": {},
   "outputs": [],
   "source": [
    "# #To Get Words\n",
    "\n",
    "# print(reader.words())\n",
    "\n",
    "# #To Get Sentences\n",
    "\n",
    "# print(reader.sents())\n",
    "\n",
    "# #To Get Tagged Words\n",
    "\n",
    "# print(reader.tagged_words())\n",
    "\n",
    "# #To Get Tagged Sentences\n",
    "\n",
    "# print(reader.tagged_sents())\n",
    "\n",
    "# #To Get Chunked Words\n",
    "\n",
    "# print(reader.chunked_words())\n",
    "\n",
    "# #To Get Chunked Sentences\n",
    "\n",
    "#print(reader.chunked_sents())\n",
    "\n",
    "# #To Get Parsed Sentences\n",
    "\n",
    "# print(reader.parsed_sents())\n",
    "\n",
    "#print(reader.iob_words())\n",
    "grid = reader._grids()\n",
    "#print(reader._get_iob_words(reader._grids()))\n",
    "\n",
    "#print(reader._get_iob_words(reader._grids(), columns=['ne']))\n",
    "\n",
    "#reader._get_iob_words(reader._grids(), columns=['chunk', 'ne'])\n",
    "import numpy as np"
   ]
  },
  {
   "cell_type": "code",
   "execution_count": 7,
   "metadata": {},
   "outputs": [
    {
     "name": "stdout",
     "output_type": "stream",
     "text": [
      "[['EU', 'NNP', 'I-NP', 'I-ORG'], ['rejects', 'VBZ', 'I-VP', 'O'], ['German', 'JJ', 'I-NP', 'I-MISC'], ['call', 'NN', 'I-NP', 'O'], ['to', 'TO', 'I-VP', 'O'], ['boycott', 'VB', 'I-VP', 'O'], ['British', 'JJ', 'I-NP', 'I-MISC'], ['lamb', 'NN', 'I-NP', 'O'], ['.', '.', 'O', 'O']]\n"
     ]
    }
   ],
   "source": [
    "sentences = list(grid) \n",
    "\n",
    "#Removing the first empty entry\n",
    "sentences = sentences[1:]\n",
    "\n",
    "print((sentences[0]))"
   ]
  },
  {
   "cell_type": "code",
   "execution_count": 8,
   "metadata": {},
   "outputs": [
    {
     "name": "stdout",
     "output_type": "stream",
     "text": [
      "203621\n"
     ]
    }
   ],
   "source": [
    "all_words = (reader.words())\n",
    "\n",
    "print(len(all_words))"
   ]
  },
  {
   "cell_type": "code",
   "execution_count": 10,
   "metadata": {},
   "outputs": [
    {
     "name": "stdout",
     "output_type": "stream",
     "text": [
      "23624\n"
     ]
    }
   ],
   "source": [
    "words = list(set(all_words))\n",
    "words.append(\"ENDPAD\")\n",
    "\n",
    "n_words = len(words)\n",
    "\n",
    "print(n_words)"
   ]
  },
  {
   "cell_type": "code",
   "execution_count": 11,
   "metadata": {},
   "outputs": [
    {
     "name": "stdout",
     "output_type": "stream",
     "text": [
      "14986\n"
     ]
    }
   ],
   "source": [
    "#No of sentences\n",
    "print(len(sentences))"
   ]
  },
  {
   "cell_type": "code",
   "execution_count": 12,
   "metadata": {},
   "outputs": [
    {
     "name": "stdout",
     "output_type": "stream",
     "text": [
      "['I-ORG', 'O', 'I-MISC', 'O', 'O']\n",
      "203621\n"
     ]
    }
   ],
   "source": [
    "all_tags_in_sentence = [[c[3] for c in sentence] for sentence in sentences]\n",
    "all_tags = []\n",
    "\n",
    "for sentence in all_tags_in_sentence:\n",
    "    for c in sentence:\n",
    "        all_tags.append(c)\n",
    "\n",
    "print((all_tags[:5]))\n",
    "print(len(all_tags))"
   ]
  },
  {
   "cell_type": "code",
   "execution_count": 13,
   "metadata": {},
   "outputs": [
    {
     "name": "stdout",
     "output_type": "stream",
     "text": [
      "{'B-MISC', 'I-MISC', 'I-PER', 'I-LOC', 'B-LOC', 'I-ORG', 'B-ORG', 'O'}\n"
     ]
    },
    {
     "data": {
      "text/plain": [
       "8"
      ]
     },
     "execution_count": 13,
     "metadata": {},
     "output_type": "execute_result"
    }
   ],
   "source": [
    "tags = set(all_tags)\n",
    "\n",
    "print(tags)\n",
    "\n",
    "n_tags = len(tags); n_tags"
   ]
  },
  {
   "cell_type": "code",
   "execution_count": 14,
   "metadata": {},
   "outputs": [
    {
     "name": "stdout",
     "output_type": "stream",
     "text": [
      "['NNP', 'VBZ', 'JJ', 'NN', 'TO']\n",
      "203621\n"
     ]
    }
   ],
   "source": [
    "all_pos_in_sentence = [[c[1] for c in sentence] for sentence in sentences]\n",
    "all_pos = []\n",
    "\n",
    "for sentence in all_pos_in_sentence:\n",
    "    for c in sentence:\n",
    "        all_pos.append(c)\n",
    "\n",
    "print((all_pos[:5]))\n",
    "print(len(all_pos))"
   ]
  },
  {
   "cell_type": "code",
   "execution_count": 16,
   "metadata": {},
   "outputs": [
    {
     "name": "stdout",
     "output_type": "stream",
     "text": [
      "{'VBP', 'JJR', 'NNP', 'VBG', 'WRB', 'WP$', 'LS', 'UH', \"''\", ')', 'VBZ', 'VBD', 'VB', 'NNPS', 'IN', '\"', 'PRP', 'EX', 'CD', 'NN', 'TO', '.', 'VBN', '(', 'DT', 'RBS', 'RB', 'WP', 'NNS', 'SYM', 'JJS', 'CC', 'WDT', 'RBR', '$', 'MD', 'PDT', 'RP', ':', ',', 'JJ', 'FW', 'NN|SYM', 'PRP$', 'POS'}\n"
     ]
    },
    {
     "data": {
      "text/plain": [
       "45"
      ]
     },
     "execution_count": 16,
     "metadata": {},
     "output_type": "execute_result"
    }
   ],
   "source": [
    "pos = set(all_pos)\n",
    "print(pos)\n",
    "n_pos = len(pos); n_pos"
   ]
  },
  {
   "cell_type": "code",
   "execution_count": 13,
   "metadata": {},
   "outputs": [
    {
     "name": "stdout",
     "output_type": "stream",
     "text": [
      "['I-NP', 'I-VP', 'I-NP', 'I-NP', 'I-VP']\n",
      "203621\n"
     ]
    }
   ],
   "source": [
    "all_chunk_in_sentence = [[c[2] for c in sentence] for sentence in sentences]\n",
    "all_chunk = []\n",
    "\n",
    "for sentence in all_chunk_in_sentence:\n",
    "    for c in sentence:\n",
    "        all_chunk.append(c)\n",
    "\n",
    "print((all_chunk[:5]))\n",
    "print(len(all_chunk))"
   ]
  },
  {
   "cell_type": "code",
   "execution_count": 14,
   "metadata": {},
   "outputs": [
    {
     "data": {
      "text/plain": [
       "17"
      ]
     },
     "execution_count": 14,
     "metadata": {},
     "output_type": "execute_result"
    }
   ],
   "source": [
    "chunks = set(all_chunk)\n",
    "\n",
    "n_chunks = len(chunks); n_chunks"
   ]
  },
  {
   "cell_type": "markdown",
   "metadata": {},
   "source": [
    "### 2. Preparing the Data "
   ]
  },
  {
   "cell_type": "code",
   "execution_count": 15,
   "metadata": {},
   "outputs": [
    {
     "name": "stdout",
     "output_type": "stream",
     "text": [
      "65\n"
     ]
    }
   ],
   "source": [
    "max_len = 65\n",
    "print(max_len)\n",
    "\n",
    "word2idx = {w: i + 2 for i, w in enumerate(words)}\n",
    "word2idx[\"UNK\"] = 1\n",
    "word2idx[\"PAD\"] = 0\n",
    "idx2word = {i: w for w, i in word2idx.items()}\n",
    "\n",
    "tag2idx = {t: i + 1 for i, t in enumerate(tags)}\n",
    "tag2idx[\"PAD\"] = 0\n",
    "idx2tag = {i: w for w, i in tag2idx.items()}\n",
    "\n",
    "pos2idx = {t: i + 1 for i, t in enumerate(pos)}\n",
    "pos2idx[\"PAD\"] = 0\n",
    "idx2pos = {i: w for w, i in pos2idx.items()}\n",
    "\n",
    "chunks2idx = {t: i + 1 for i, t in enumerate(chunks)}\n",
    "chunks2idx[\"PAD\"] = 0\n",
    "idx2chunks = {i: w for w, i in chunks2idx.items()}"
   ]
  },
  {
   "cell_type": "markdown",
   "metadata": {},
   "source": [
    "### 3. Padding Sequences"
   ]
  },
  {
   "cell_type": "code",
   "execution_count": 177,
   "metadata": {},
   "outputs": [],
   "source": [
    "from keras.preprocessing.sequence import pad_sequences\n",
    "X_word = [[word2idx[w[0]] for w in s] for s in sentences]\n",
    "X_word = pad_sequences(maxlen=max_len, sequences=X_word, value=word2idx[\"PAD\"], padding='post', truncating='post')\n",
    "\n",
    "X_pos = [[pos2idx[w[1]] for w in s] for s in sentences]\n",
    "X_pos = pad_sequences(maxlen=max_len, sequences=X_pos, value=pos2idx[\"PAD\"], padding='post', truncating='post')\n",
    "\n",
    "X_chunk = [[chunks2idx[w[2]] for w in s] for s in sentences]\n",
    "X_chunk = pad_sequences(maxlen=max_len, sequences=X_chunk, value=chunks2idx[\"PAD\"], padding='post', truncating='post')"
   ]
  },
  {
   "cell_type": "code",
   "execution_count": 17,
   "metadata": {
    "scrolled": true
   },
   "outputs": [
    {
     "name": "stdout",
     "output_type": "stream",
     "text": [
      "[[17005 10251 10314  8852 16781 10366 12416  3875 20624     0     0     0\n",
      "      0     0     0     0     0     0     0     0     0     0     0     0\n",
      "      0     0     0     0     0     0     0     0     0     0     0     0\n",
      "      0     0     0     0     0     0     0     0     0     0     0     0\n",
      "      0     0     0     0     0     0     0     0     0     0     0     0\n",
      "      0     0     0     0     0]\n",
      " [21988  2030     0     0     0     0     0     0     0     0     0     0\n",
      "      0     0     0     0     0     0     0     0     0     0     0     0\n",
      "      0     0     0     0     0     0     0     0     0     0     0     0\n",
      "      0     0     0     0     0     0     0     0     0     0     0     0\n",
      "      0     0     0     0     0     0     0     0     0     0     0     0\n",
      "      0     0     0     0     0]\n",
      " [11075 19326     0     0     0     0     0     0     0     0     0     0\n",
      "      0     0     0     0     0     0     0     0     0     0     0     0\n",
      "      0     0     0     0     0     0     0     0     0     0     0     0\n",
      "      0     0     0     0     0     0     0     0     0     0     0     0\n",
      "      0     0     0     0     0     0     0     0     0     0     0     0\n",
      "      0     0     0     0     0]\n",
      " [20374 19000 18954  9178 11550 18205 12860  7938  8975 10314 22362 16781\n",
      "  23062 16781  8236 12416  3875 20286  7289  1315   781 14732  5108 11599\n",
      "  15982 18106 12933 16781  4686 20624     0     0     0     0     0     0\n",
      "      0     0     0     0     0     0     0     0     0     0     0     0\n",
      "      0     0     0     0     0     0     0     0     0     0     0     0\n",
      "      0     0     0     0     0]\n",
      " [ 7207 10860 19045 16781  3061 19000  3290 10860 14713 10849 13626  7553\n",
      "   9178 11550 22790 23062  9783 11829  4625 16959 17511  4213   334  3693\n",
      "  20286  3061 18248 22362 11784 17273 20624     0     0     0     0     0\n",
      "      0     0     0     0     0     0     0     0     0     0     0     0\n",
      "      0     0     0     0     0     0     0     0     0     0     0     0\n",
      "      0     0     0     0     0]]\n"
     ]
    }
   ],
   "source": [
    "print(X_word[:5])"
   ]
  },
  {
   "cell_type": "code",
   "execution_count": 18,
   "metadata": {},
   "outputs": [],
   "source": [
    "y = [[tag2idx[w[3]] for w in s] for s in sentences]\n",
    "y = pad_sequences(maxlen=max_len, sequences=y, value=tag2idx[\"PAD\"], padding='post', truncating='post')"
   ]
  },
  {
   "cell_type": "code",
   "execution_count": 178,
   "metadata": {},
   "outputs": [
    {
     "name": "stdout",
     "output_type": "stream",
     "text": [
      "(13487, 65)\n",
      "[20202 10860 13764     0     0     0     0     0     0     0     0     0\n",
      "     0     0     0     0     0     0     0     0     0     0     0     0\n",
      "     0     0     0     0     0     0     0     0     0     0     0     0\n",
      "     0     0     0     0     0     0     0     0     0     0     0     0\n",
      "     0     0     0     0     0     0     0     0     0     0     0     0\n",
      "     0     0     0     0     0]\n",
      "(13487, 65)\n",
      "(1499, 65)\n",
      "(13487, 65)\n",
      "(1499, 65)\n",
      "(13487, 65)\n",
      "(1499, 65)\n"
     ]
    }
   ],
   "source": [
    "from sklearn.model_selection import train_test_split\n",
    "X_word_tr, X_word_te, y_tr, y_te = train_test_split(X_word, y, test_size=0.1, random_state=2018)\n",
    "\n",
    "X_pos_tr, X_pos_te, _, _ = train_test_split(X_pos, y, test_size=0.1, random_state=2018)\n",
    "\n",
    "X_chunk_tr, X_chunk_te, _, _ = train_test_split(X_chunk, y, test_size=0.1, random_state=2018)\n",
    "\n",
    "\n",
    "print(X_word_tr.shape)\n",
    "print(X_word_te[0])\n",
    "print(X_pos_tr.shape)\n",
    "print(X_pos_te.shape)\n",
    "print(X_chunk_tr.shape)\n",
    "print(X_chunk_te.shape)\n",
    "print(y_tr.shape)\n",
    "print(y_te.shape)"
   ]
  },
  {
   "cell_type": "code",
   "execution_count": 94,
   "metadata": {},
   "outputs": [],
   "source": [
    "from keras.models import Model, Input\n",
    "from keras_contrib.layers import CRF\n",
    "from keras.layers import LSTM, Embedding, Dense, TimeDistributed, Dropout, Conv1D\n",
    "from keras.layers import Bidirectional, concatenate, Flatten, SpatialDropout1D, GlobalMaxPooling1D"
   ]
  },
  {
   "cell_type": "code",
   "execution_count": 25,
   "metadata": {},
   "outputs": [],
   "source": [
    "# # input and embedding for words\n",
    "# word_in = Input(shape=(max_len,))\n",
    "# emb_word = Embedding(input_dim=n_words+2, output_dim=20,\n",
    "#                      input_length=max_len, mask_zero=True)(word_in)\n",
    "\n",
    "# # input and embedding for pos\n",
    "# pos_input = Input(shape=(max_len,))\n",
    "# pos_emb = Embedding(input_dim=n_pos, output_dim=10,\n",
    "#                     input_length=max_len, mask_zero=True)(pos_input)\n",
    "\n",
    "# # input and embedding for chunk\n",
    "# chunk_input = Input(shape=(max_len,))\n",
    "# chunk_emb = Embedding(input_dim=n_chunks, output_dim=10,\n",
    "#                     input_length=max_len, mask_zero=True)(chunk_input)\n",
    "\n",
    "# # main LSTM\n",
    "# x = concatenate([emb_word, pos_emb, chunk_emb])\n",
    "# x = SpatialDropout1D(0.3)(x)\n",
    "# main_lstm = Bidirectional(LSTM(units=50, return_sequences=True,\n",
    "#                                recurrent_dropout=0.6))(x)\n",
    "# out = TimeDistributed(Dense(n_tags + 1, activation=\"sigmoid\"))(main_lstm)\n",
    "\n",
    "# model = Model([word_in, pos_input, chunk_input], out)"
   ]
  },
  {
   "cell_type": "code",
   "execution_count": 142,
   "metadata": {},
   "outputs": [],
   "source": [
    "# input and embedding for words\n",
    "word_in = Input(shape=(max_len,))\n",
    "emb_word = Embedding(input_dim=n_words+2, output_dim=20,\n",
    "                     input_length=max_len, mask_zero=True)(word_in)\n",
    "\n",
    "# input and embedding for pos\n",
    "pos_input = Input(shape=(max_len,))\n",
    "pos_emb = Embedding(input_dim=n_pos+2, output_dim=20,\n",
    "                    input_length=max_len, mask_zero=True)(pos_input)\n",
    "\n",
    "# input and embedding for chunk\n",
    "chunk_input = Input(shape=(max_len,))\n",
    "chunk_emb = Embedding(input_dim=n_chunks+2, output_dim=20,\n",
    "                    input_length=max_len, mask_zero=True)(chunk_input)\n",
    "\n",
    "# main LSTM\n",
    "x = concatenate([emb_word, pos_emb, chunk_emb])\n",
    "x = SpatialDropout1D(0.3)(x)\n",
    "main_lstm = Bidirectional(LSTM(units=50, return_sequences=True,\n",
    "                               recurrent_dropout=0.6))(x)\n",
    "out = TimeDistributed(Dense(n_tags+1, activation=\"sigmoid\"))(main_lstm)\n",
    "model = Model([word_in, pos_input, chunk_input], out)"
   ]
  },
  {
   "cell_type": "code",
   "execution_count": 143,
   "metadata": {},
   "outputs": [
    {
     "name": "stdout",
     "output_type": "stream",
     "text": [
      "(?, 65)\n",
      "(?, 65, 20)\n",
      "(?, 65)\n",
      "(?, 65, 20)\n",
      "(?, 65)\n",
      "(?, 65, 20)\n",
      "(?, ?, 100)\n",
      "(?, 65, 60)\n",
      "(?, 65, 9)\n"
     ]
    }
   ],
   "source": [
    "print(word_in.shape)\n",
    "print(emb_word.shape)\n",
    "print(pos_input.shape)\n",
    "print(pos_emb.shape)\n",
    "print(chunk_input.shape)\n",
    "print(chunk_emb.shape)\n",
    "print(main_lstm.shape)\n",
    "print(x.shape)\n",
    "\n",
    "print(out.shape)"
   ]
  },
  {
   "cell_type": "code",
   "execution_count": 154,
   "metadata": {},
   "outputs": [],
   "source": [
    "model.compile(optimizer=\"adam\", loss=\"sparse_categorical_crossentropy\", metrics=[\"accuracy\"])"
   ]
  },
  {
   "cell_type": "code",
   "execution_count": 155,
   "metadata": {
    "scrolled": true
   },
   "outputs": [
    {
     "name": "stdout",
     "output_type": "stream",
     "text": [
      "__________________________________________________________________________________________________\n",
      "Layer (type)                    Output Shape         Param #     Connected to                     \n",
      "==================================================================================================\n",
      "input_58 (InputLayer)           (None, 65)           0                                            \n",
      "__________________________________________________________________________________________________\n",
      "input_59 (InputLayer)           (None, 65)           0                                            \n",
      "__________________________________________________________________________________________________\n",
      "input_60 (InputLayer)           (None, 65)           0                                            \n",
      "__________________________________________________________________________________________________\n",
      "embedding_58 (Embedding)        (None, 65, 20)       472520      input_58[0][0]                   \n",
      "__________________________________________________________________________________________________\n",
      "embedding_59 (Embedding)        (None, 65, 20)       940         input_59[0][0]                   \n",
      "__________________________________________________________________________________________________\n",
      "embedding_60 (Embedding)        (None, 65, 20)       380         input_60[0][0]                   \n",
      "__________________________________________________________________________________________________\n",
      "concatenate_20 (Concatenate)    (None, 65, 60)       0           embedding_58[0][0]               \n",
      "                                                                 embedding_59[0][0]               \n",
      "                                                                 embedding_60[0][0]               \n",
      "__________________________________________________________________________________________________\n",
      "spatial_dropout1d_16 (SpatialDr (None, 65, 60)       0           concatenate_20[0][0]             \n",
      "__________________________________________________________________________________________________\n",
      "bidirectional_20 (Bidirectional (None, 65, 100)      44400       spatial_dropout1d_16[0][0]       \n",
      "__________________________________________________________________________________________________\n",
      "time_distributed_20 (TimeDistri (None, 65, 9)        909         bidirectional_20[0][0]           \n",
      "==================================================================================================\n",
      "Total params: 519,149\n",
      "Trainable params: 519,149\n",
      "Non-trainable params: 0\n",
      "__________________________________________________________________________________________________\n"
     ]
    }
   ],
   "source": [
    "model.summary()"
   ]
  },
  {
   "cell_type": "code",
   "execution_count": 156,
   "metadata": {},
   "outputs": [
    {
     "data": {
      "text/plain": [
       "(13487, 65, 1)"
      ]
     },
     "execution_count": 156,
     "metadata": {},
     "output_type": "execute_result"
    }
   ],
   "source": [
    "np.array(y_tr).reshape(len(y_tr), max_len, 1).shape"
   ]
  },
  {
   "cell_type": "code",
   "execution_count": 157,
   "metadata": {},
   "outputs": [
    {
     "name": "stdout",
     "output_type": "stream",
     "text": [
      "Train on 12138 samples, validate on 1349 samples\n",
      "Epoch 1/10\n",
      "12138/12138 [==============================] - 50s 4ms/step - loss: 0.6554 - acc: 0.8292 - val_loss: 0.3544 - val_acc: 0.8292\n",
      "Epoch 2/10\n",
      "12138/12138 [==============================] - 44s 4ms/step - loss: 0.2999 - acc: 0.8565 - val_loss: 0.2543 - val_acc: 0.8867\n",
      "Epoch 3/10\n",
      "12138/12138 [==============================] - 44s 4ms/step - loss: 0.2020 - acc: 0.9190 - val_loss: 0.1841 - val_acc: 0.9413\n",
      "Epoch 4/10\n",
      "12138/12138 [==============================] - 45s 4ms/step - loss: 0.1311 - acc: 0.9579 - val_loss: 0.1473 - val_acc: 0.9573\n",
      "Epoch 5/10\n",
      "12138/12138 [==============================] - 44s 4ms/step - loss: 0.0897 - acc: 0.9743 - val_loss: 0.1180 - val_acc: 0.9671\n",
      "Epoch 6/10\n",
      "12138/12138 [==============================] - 44s 4ms/step - loss: 0.0637 - acc: 0.9824 - val_loss: 0.1037 - val_acc: 0.9721\n",
      "Epoch 7/10\n",
      "12138/12138 [==============================] - 44s 4ms/step - loss: 0.0476 - acc: 0.9873 - val_loss: 0.0995 - val_acc: 0.9737\n",
      "Epoch 8/10\n",
      "12138/12138 [==============================] - 44s 4ms/step - loss: 0.0371 - acc: 0.9903 - val_loss: 0.0909 - val_acc: 0.9754\n",
      "Epoch 9/10\n",
      "12138/12138 [==============================] - 44s 4ms/step - loss: 0.0302 - acc: 0.9922 - val_loss: 0.0924 - val_acc: 0.9758\n",
      "Epoch 10/10\n",
      "12138/12138 [==============================] - 44s 4ms/step - loss: 0.0259 - acc: 0.9931 - val_loss: 0.0905 - val_acc: 0.9760\n"
     ]
    }
   ],
   "source": [
    "history = model.fit([X_word_tr, \n",
    "                     X_pos_tr, \n",
    "                     X_chunk_tr], \n",
    "                    np.array(y_tr).reshape(len(y_tr), max_len, 1), \n",
    "                    batch_size=32, epochs=10, validation_split=0.1, verbose=1)"
   ]
  },
  {
   "cell_type": "code",
   "execution_count": 183,
   "metadata": {},
   "outputs": [],
   "source": [
    "import pandas as pd\n",
    "\n",
    "hist = pd.DataFrame(history.history)"
   ]
  },
  {
   "cell_type": "code",
   "execution_count": 184,
   "metadata": {},
   "outputs": [
    {
     "data": {
      "image/png": "[encoded data removed]",
      "text/plain": [
       "<Figure size 864x864 with 1 Axes>"
      ]
     },
     "metadata": {},
     "output_type": "display_data"
    }
   ],
   "source": [
    "import matplotlib.pyplot as plt\n",
    "%matplotlib inline\n",
    "plt.style.use(\"ggplot\")\n",
    "plt.figure(figsize=(12,12))\n",
    "plt.plot(hist[\"acc\"])\n",
    "plt.plot(hist[\"val_acc\"])\n",
    "plt.show()"
   ]
  },
  {
   "cell_type": "code",
   "execution_count": 161,
   "metadata": {},
   "outputs": [
    {
     "data": {
      "image/png": "[encoded data removed]",
      "text/plain": [
       "<Figure size 864x864 with 1 Axes>"
      ]
     },
     "metadata": {},
     "output_type": "display_data"
    }
   ],
   "source": [
    "import matplotlib.pyplot as plt\n",
    "%matplotlib inline\n",
    "plt.style.use(\"ggplot\")\n",
    "plt.figure(figsize=(12,12))\n",
    "plt.plot(hist[\"loss\"])\n",
    "plt.plot(hist[\"val_loss\"])\n",
    "plt.show()"
   ]
  },
  {
   "cell_type": "code",
   "execution_count": 164,
   "metadata": {},
   "outputs": [],
   "source": [
    "y_pred = model.predict([X_word_te, X_pos_te, X_chunk_te])"
   ]
  },
  {
   "cell_type": "code",
   "execution_count": 182,
   "metadata": {},
   "outputs": [
    {
     "name": "stdout",
     "output_type": "stream",
     "text": [
      "Word           ||True ||Pred\n",
      "==============================\n",
      "In             : O     O\n",
      "Kansas         : I-LOC I-LOC\n",
      "City           : I-LOC I-LOC\n",
      ",              : O     O\n",
      "Travis         : I-PER I-LOC\n",
      "Fryman         : I-PER I-PER\n",
      "doubled        : O     O\n",
      "in             : O     O\n",
      "the            : O     O\n",
      "go-ahead       : O     O\n",
      "run            : O     O\n",
      "in             : O     O\n",
      "the            : O     O\n",
      "fifth          : O     O\n",
      "and            : O     O\n",
      "Melvin         : I-PER I-PER\n",
      "Nieves         : I-PER I-PER\n",
      "and            : O     O\n",
      "Damion         : I-PER I-PER\n",
      "Easley         : I-PER I-PER\n",
      "belted         : O     O\n",
      "two-run        : O     O\n",
      "homers         : O     O\n",
      "as             : O     O\n",
      "the            : O     O\n",
      "Detroit        : I-ORG I-ORG\n",
      "Tigers         : I-ORG I-ORG\n",
      "claimed        : O     O\n",
      "a              : O     O\n",
      "10-3           : O     O\n",
      "win            : O     O\n",
      "over           : O     O\n",
      "the            : O     O\n",
      "Royals         : I-ORG I-ORG\n",
      ",              : O     O\n",
      "handing        : O     O\n",
      "them           : O     O\n",
      "their          : O     O\n",
      "fifth          : O     O\n",
      "straight       : O     O\n",
      "loss           : O     O\n",
      ".              : O     O\n"
     ]
    }
   ],
   "source": [
    "i = 1003\n",
    "p = np.argmax(y_pred[i], axis=-1)\n",
    "print(\"{:15}||{:5}||{}\".format(\"Word\", \"True\", \"Pred\"))\n",
    "print(30 * \"=\")\n",
    "for w, t, pred in zip(X_word_te[i], y_te[i], p):\n",
    "    if w != 0:\n",
    "        print(\"{:15}: {:5} {}\".format(idx2word[w], idx2tag[t], idx2tag[pred]))"
   ]
  }
 ],
 "metadata": {
  "kernelspec": {
   "display_name": "Python 3",
   "language": "python",
   "name": "python3"
  },
  "language_info": {
   "codemirror_mode": {
    "name": "ipython",
    "version": 3
   },
   "file_extension": ".py",
   "mimetype": "text/x-python",
   "name": "python",
   "nbconvert_exporter": "python",
   "pygments_lexer": "ipython3",
   "version": "3.6.6"
  }
 },
 "nbformat": 4,
 "nbformat_minor": 2
}
